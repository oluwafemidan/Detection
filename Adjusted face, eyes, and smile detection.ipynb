{
 "cells": [
  {
   "cell_type": "code",
   "execution_count": 1,
   "id": "e49fbc48",
   "metadata": {},
   "outputs": [],
   "source": [
    "import cv2"
   ]
  },
  {
   "cell_type": "code",
   "execution_count": 2,
   "id": "0f58236c",
   "metadata": {},
   "outputs": [],
   "source": [
    "#Leverage Haar-cascade classifiers\n",
    "face_cascade = cv2.CascadeClassifier(cv2.data.haarcascades + \"haarcascade_frontalface_default.xml\")\n",
    "eye_cascade = cv2.CascadeClassifier(cv2.data.haarcascades + \"haarcascade_eye.xml\")\n",
    "#smile_cascade = cv2.CascadeClassifier(cv2.data.haarcascades + \"haarcascade_smile.xml\")"
   ]
  },
  {
   "cell_type": "code",
   "execution_count": 3,
   "id": "9a74c640",
   "metadata": {},
   "outputs": [],
   "source": [
    "# create a function that will detect the face,eyes,smile\n",
    "\n",
    "def detect(gray, frame):\n",
    "    face = face_cascade.detectMultiScale(gray, 1.3, 5)\n",
    "    for (x,y,w,h) in face:\n",
    "        cv2.rectangle(frame, (x,y), (x+w, y+h), (255,0,0), 3)\n",
    "        roi_gray = gray[y:y+h, x:x+w]\n",
    "        \n",
    "        roi_color = frame[y:y+h, x:x+w]\n",
    "        \n",
    "        # eyes detection\n",
    "        eyes = eye_cascade.detectMultiScale(gray, 1.1, 3)\n",
    "        for (ex,ey,ew,eh) in eyes:\n",
    "            cv2.rectangle(frame, (ex,ey), (ex+ew, ey+eh), (100,255,200), 2)\n",
    "        \n",
    "         #smile detection \n",
    "#         smile = smile_cascade.detectMultiScale(gray, 1.2, 5)\n",
    "#         for (sx,sy,sw,sh) in smile:\n",
    "#             cv2.rectangle(frame, (sx,sy), (sx+sw, sy+sh), (0,200,100), 1)\n",
    "    return frame"
   ]
  },
  {
   "cell_type": "code",
   "execution_count": 4,
   "id": "9449ac0b",
   "metadata": {},
   "outputs": [],
   "source": [
    "\n",
    "\n",
    "# Initialize cascade classifiers and the rest of the code\n",
    "\n",
    "# capture = cv2.VideoCapture(r\"C:\\Users\\HP 2022\\OneDrive\\Documents\\10alytics\\Computer vision\\figi.jpeg\")\n",
    "\n",
    "# if not capture.isOpened():\n",
    "#     print(\"Error: Video capture not opened\")\n",
    "# else:\n",
    "#     while True:\n",
    "#         ret, frame = capture.read()\n",
    "        \n",
    "#         if frame is None:\n",
    "#             print(\"Error: Empty frame\")\n",
    "#             break\n",
    "        \n",
    "#         gray = cv2.cvtColor(frame, cv2.COLOR_BGR2GRAY)\n",
    "#         canvas = detect(gray, frame)\n",
    "#         cv2.imshow(\"video\", frame)\n",
    "        \n",
    "#         if cv2.waitKey(1) & 0xff == ord(\"q\"):\n",
    "#             break\n",
    "\n",
    "#     capture.release()\n",
    "#     cv2.destroyAllWindows()\n",
    "\n",
    "\n",
    "\n",
    "# Initialize cascade classifiers and the rest of the code\n",
    "\n",
    "image_path = r\"C:\\Users\\HP 2022\\OneDrive\\Documents\\10alytics\\Computer vision\\jeff_bezos.jpg\"\n",
    "frame = cv2.imread(image_path)\n",
    "\n",
    "if frame is not None:\n",
    "    gray = cv2.cvtColor(frame, cv2.COLOR_BGR2GRAY)\n",
    "    canvas = detect(gray, frame)\n",
    "    cv2.imshow(\"image\", frame)\n",
    "    cv2.waitKey(0)  # Wait indefinitely until a key is pressed\n",
    "    cv2.destroyAllWindows()\n",
    "else:\n",
    "    print(\"Error: Image not found or could not be loaded.\")\n",
    "\n"
   ]
  },
  {
   "cell_type": "code",
   "execution_count": null,
   "id": "00a4c8db",
   "metadata": {},
   "outputs": [],
   "source": []
  }
 ],
 "metadata": {
  "kernelspec": {
   "display_name": "Python [conda env:anaconda3-matplotlib] *",
   "language": "python",
   "name": "conda-env-anaconda3-matplotlib-py"
  },
  "language_info": {
   "codemirror_mode": {
    "name": "ipython",
    "version": 3
   },
   "file_extension": ".py",
   "mimetype": "text/x-python",
   "name": "python",
   "nbconvert_exporter": "python",
   "pygments_lexer": "ipython3",
   "version": "3.10.9"
  }
 },
 "nbformat": 4,
 "nbformat_minor": 5
}
