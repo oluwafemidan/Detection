{
 "cells": [
  {
   "cell_type": "code",
   "execution_count": 1,
   "id": "151ff50f",
   "metadata": {},
   "outputs": [],
   "source": [
    "# import OpenCV\n",
    "import cv2"
   ]
  },
  {
   "cell_type": "code",
   "execution_count": 2,
   "id": "ede2c0a1",
   "metadata": {},
   "outputs": [],
   "source": [
    "#Leverage Haar-cascade classifiers\n",
    "face_cascade = cv2.CascadeClassifier(cv2.data.haarcascades + \"haarcascade_frontalface_default.xml\")\n",
    "eye_cascade = cv2.CascadeClassifier(cv2.data.haarcascades + \"haarcascade_eye.xml\")\n",
    "smile_cascade = cv2.CascadeClassifier(cv2.data.haarcascades + \"haarcascade_smile.xml\")"
   ]
  },
  {
   "cell_type": "code",
   "execution_count": 3,
   "id": "2dbd784d",
   "metadata": {},
   "outputs": [],
   "source": [
    "# create a function that will detect the face,eyes,smile\n",
    "\n",
    "def detect(gray, frame):\n",
    "    face = face_cascade.detectMultiScale(gray, 1.3, 5)\n",
    "    for (x,y,w,h) in face:\n",
    "        cv2.rectangle(frame, (x,y), (x+w, y+h), (255,0,0), 3)\n",
    "        roi_gray = gray[y:y+h, x:x+w]\n",
    "        roi_color = frame[y:y+h, x:x+w]\n",
    "        \n",
    "        # eyes detection\n",
    "        eyes = eye_cascade.detectMultiScale(gray, 1.1, 3)\n",
    "        for (ex,ey,ew,eh) in eyes:\n",
    "            cv2.rectangle(frame, (ex,ey), (ex+ew, ey+eh), (100,255,200), 2)\n",
    "        \n",
    "        # smile detection \n",
    "        smile = smile_cascade.detectMultiScale(gray, 1.1, 3)\n",
    "        for (sx,sy,sw,sh) in smile:\n",
    "            cv2.rectangle(frame, (sx,sy), (sx+sw, sy+sh), (0,200,100), 1)\n",
    "    return frame"
   ]
  },
  {
   "cell_type": "code",
   "execution_count": 4,
   "id": "82e0adb1",
   "metadata": {},
   "outputs": [],
   "source": [
    "capture = cv2.VideoCapture(0) # 0 - Local webcam and 1 - External Webcam\n",
    "\n",
    "while True:\n",
    "    _, frame = capture.read()\n",
    "    gray = cv2.cvtColor(frame, cv2.COLOR_BGR2GRAY)\n",
    "    canvas = detect(gray,frame)\n",
    "    cv2.imshow(\"video\",frame)\n",
    "    if cv2.waitKey(1) & 0xff == ord(\"q\"):\n",
    "        break\n",
    "capture.release()\n",
    "cv2.destroyAllWindows()"
   ]
  },
  {
   "cell_type": "code",
   "execution_count": null,
   "id": "23657fb4",
   "metadata": {},
   "outputs": [],
   "source": []
  },
  {
   "cell_type": "code",
   "execution_count": null,
   "id": "554cd757",
   "metadata": {},
   "outputs": [],
   "source": []
  },
  {
   "cell_type": "code",
   "execution_count": null,
   "id": "1c9bba5d",
   "metadata": {},
   "outputs": [],
   "source": []
  },
  {
   "cell_type": "code",
   "execution_count": null,
   "id": "b708b7ce",
   "metadata": {},
   "outputs": [],
   "source": []
  },
  {
   "cell_type": "code",
   "execution_count": null,
   "id": "eebdcade",
   "metadata": {},
   "outputs": [],
   "source": []
  },
  {
   "cell_type": "code",
   "execution_count": null,
   "id": "1d6080b7",
   "metadata": {},
   "outputs": [],
   "source": []
  }
 ],
 "metadata": {
  "kernelspec": {
   "display_name": "Python [conda env:anaconda3-matplotlib] *",
   "language": "python",
   "name": "conda-env-anaconda3-matplotlib-py"
  },
  "language_info": {
   "codemirror_mode": {
    "name": "ipython",
    "version": 3
   },
   "file_extension": ".py",
   "mimetype": "text/x-python",
   "name": "python",
   "nbconvert_exporter": "python",
   "pygments_lexer": "ipython3",
   "version": "3.10.9"
  }
 },
 "nbformat": 4,
 "nbformat_minor": 5
}
