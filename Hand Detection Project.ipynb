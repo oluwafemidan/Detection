{
 "cells": [
  {
   "cell_type": "code",
   "execution_count": 1,
   "id": "b428bcc5",
   "metadata": {},
   "outputs": [],
   "source": [
    "#!pip install mediapipe"
   ]
  },
  {
   "cell_type": "code",
   "execution_count": 2,
   "id": "efcb4219",
   "metadata": {},
   "outputs": [],
   "source": [
    "import mediapipe as mp\n",
    "import cv2"
   ]
  },
  {
   "cell_type": "code",
   "execution_count": 3,
   "id": "b9225d0d",
   "metadata": {},
   "outputs": [],
   "source": [
    "cap = cv2.VideoCapture(0)\n",
    "\n",
    "\n"
   ]
  },
  {
   "cell_type": "code",
   "execution_count": 4,
   "id": "681b0712",
   "metadata": {},
   "outputs": [],
   "source": [
    "# Leveraging the MediaPipe library used for hand detection\n",
    "\n",
    "mpHands = mp.solutions.hands\n",
    "hands = mpHands.Hands()\n",
    "mpDraw = mp.solutions.drawing_utils"
   ]
  },
  {
   "cell_type": "code",
   "execution_count": 5,
   "id": "5e2d5d9d",
   "metadata": {},
   "outputs": [],
   "source": [
    "while True:\n",
    "    _,img = cap.read()\n",
    "    \n",
    "    #Convert image from BGR to RGB\n",
    "    imgRGB = cv2.cvtColor(img, cv2.COLOR_BGR2RGB)\n",
    "    \n",
    "    #Apply mediapipe\n",
    "    results = hands.process(imgRGB)\n",
    "    \n",
    "    #print (results.multi_hand_landmarks)\n",
    "    \n",
    "    if results.multi_hand_landmarks:\n",
    "        for handLms in results.multi_hand_landmarks:\n",
    "            for id, lm in enumerate(handLms.landmark):\n",
    "                #print(id,lm)\n",
    "                \n",
    "                mpDraw.draw_landmarks(img, handLms, mpHands.HAND_CONNECTIONS)\n",
    "    \n",
    "    \n",
    "    cv2.putText(img, \"10Alytics Hand Detection Program\", (10,70), cv2.FONT_HERSHEY_PLAIN, 3, (255,255,255), 2 )\n",
    "    cv2.imshow(\"10Alytics hand detection project\",img)\n",
    "    if cv2.waitKey(1) & 0xff == ord(\"q\"):\n",
    "        break\n",
    "        \n",
    "cap.release()\n",
    "cv2.destroyAllWindows()"
   ]
  },
  {
   "cell_type": "code",
   "execution_count": null,
   "id": "6d750a91",
   "metadata": {},
   "outputs": [],
   "source": []
  }
 ],
 "metadata": {
  "kernelspec": {
   "display_name": "Python [conda env:anaconda3-matplotlib] *",
   "language": "python",
   "name": "conda-env-anaconda3-matplotlib-py"
  },
  "language_info": {
   "codemirror_mode": {
    "name": "ipython",
    "version": 3
   },
   "file_extension": ".py",
   "mimetype": "text/x-python",
   "name": "python",
   "nbconvert_exporter": "python",
   "pygments_lexer": "ipython3",
   "version": "3.10.9"
  }
 },
 "nbformat": 4,
 "nbformat_minor": 5
}
